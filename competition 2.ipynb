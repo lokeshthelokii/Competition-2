{
 "cells": [
  {
   "cell_type": "code",
   "execution_count": 1,
   "id": "28a5efde",
   "metadata": {
    "_cell_guid": "b1076dfc-b9ad-4769-8c92-a6c4dae69d19",
    "_uuid": "8f2839f25d086af736a60e9eeb907d3b93b6e0e5",
    "execution": {
     "iopub.execute_input": "2022-10-30T14:45:50.234025Z",
     "iopub.status.busy": "2022-10-30T14:45:50.233408Z",
     "iopub.status.idle": "2022-10-30T14:45:50.244236Z",
     "shell.execute_reply": "2022-10-30T14:45:50.243132Z"
    },
    "papermill": {
     "duration": 0.036151,
     "end_time": "2022-10-30T14:45:50.246787",
     "exception": false,
     "start_time": "2022-10-30T14:45:50.210636",
     "status": "completed"
    },
    "tags": []
   },
   "outputs": [],
   "source": [
    "import os\n",
    "for dirname, _, filenames in os.walk('/kaggle/input'):\n",
    "    for filename in filenames:\n",
    "        print(os.path.join(dirname, filename))"
   ]
  },
  {
   "cell_type": "markdown",
   "id": "ae1826ee",
   "metadata": {
    "papermill": {
     "duration": 0.021245,
     "end_time": "2022-10-30T14:45:50.289876",
     "exception": false,
     "start_time": "2022-10-30T14:45:50.268631",
     "status": "completed"
    },
    "tags": []
   },
   "source": [
    "### We will import the necessary libraries. \n",
    "\n",
    "1. 'numpy' is a Python arithmetic library.\n",
    "2. 'pandas' was used to import csv data into table format, a technique known as data frame organization.\n",
    "3. 'seaborn' will use the matplotlib package to plot the graph so that everyone can see how the data is distributed.\n",
    "4. 'matplotlib' to generate the graph"
   ]
  },
  {
   "cell_type": "code",
   "execution_count": 2,
   "id": "19cc9f3f",
   "metadata": {
    "execution": {
     "iopub.execute_input": "2022-10-30T14:45:50.333203Z",
     "iopub.status.busy": "2022-10-30T14:45:50.332716Z",
     "iopub.status.idle": "2022-10-30T14:45:51.138822Z",
     "shell.execute_reply": "2022-10-30T14:45:51.137919Z"
    },
    "papermill": {
     "duration": 0.830266,
     "end_time": "2022-10-30T14:45:51.141190",
     "exception": false,
     "start_time": "2022-10-30T14:45:50.310924",
     "status": "completed"
    },
    "tags": []
   },
   "outputs": [],
   "source": [
    "import numpy as np\n",
    "import pandas as pd\n",
    "import matplotlib.pyplot as plt\n",
    "import seaborn as sns\n",
    "%matplotlib inline"
   ]
  },
  {
   "cell_type": "markdown",
   "id": "8d70bfea",
   "metadata": {
    "papermill": {
     "duration": 0.020771,
     "end_time": "2022-10-30T14:45:51.183301",
     "exception": false,
     "start_time": "2022-10-30T14:45:51.162530",
     "status": "completed"
    },
    "tags": []
   },
   "source": [
    "### Import Data \n",
    "\n",
    "Import the data provided by Spaceship Titanic. \n",
    "There are two parts: \n",
    "train data for modeling and \n",
    "test data for testing."
   ]
  },
  {
   "cell_type": "code",
   "execution_count": 3,
   "id": "2cf7a0b0",
   "metadata": {
    "execution": {
     "iopub.execute_input": "2022-10-30T14:45:51.228604Z",
     "iopub.status.busy": "2022-10-30T14:45:51.228239Z",
     "iopub.status.idle": "2022-10-30T14:45:51.289804Z",
     "shell.execute_reply": "2022-10-30T14:45:51.288845Z"
    },
    "papermill": {
     "duration": 0.087722,
     "end_time": "2022-10-30T14:45:51.292083",
     "exception": false,
     "start_time": "2022-10-30T14:45:51.204361",
     "status": "completed"
    },
    "tags": []
   },
   "outputs": [],
   "source": [
    "train_data=pd.read_csv(r\"C:\\Users\\Lokesh\\Downloads\\train.csv\")\n",
    "test_data=pd.read_csv(r\"C:\\Users\\Lokesh\\Downloads\\test.csv\")"
   ]
  },
  {
   "cell_type": "markdown",
   "id": "9ea05e83",
   "metadata": {
    "papermill": {
     "duration": 0.020512,
     "end_time": "2022-10-30T14:45:51.334547",
     "exception": false,
     "start_time": "2022-10-30T14:45:51.314035",
     "status": "completed"
    },
    "tags": []
   },
   "source": [
    "The number of rows and characteristics of the Train and Test are displayed."
   ]
  },
  {
   "cell_type": "code",
   "execution_count": 4,
   "id": "f64da263",
   "metadata": {
    "execution": {
     "iopub.execute_input": "2022-10-30T14:45:51.377805Z",
     "iopub.status.busy": "2022-10-30T14:45:51.377461Z",
     "iopub.status.idle": "2022-10-30T14:45:51.381191Z",
     "shell.execute_reply": "2022-10-30T14:45:51.380662Z"
    },
    "papermill": {
     "duration": 0.027502,
     "end_time": "2022-10-30T14:45:51.383231",
     "exception": false,
     "start_time": "2022-10-30T14:45:51.355729",
     "status": "completed"
    },
    "tags": []
   },
   "outputs": [
    {
     "name": "stdout",
     "output_type": "stream",
     "text": [
      "Train size : (8693, 14)\n",
      "Test size : (4277, 13)\n"
     ]
    }
   ],
   "source": [
    "print(\"Train size :\",train_data.shape)\n",
    "print(\"Test size :\",test_data.shape)"
   ]
  },
  {
   "cell_type": "code",
   "execution_count": 5,
   "id": "82ffde63",
   "metadata": {
    "execution": {
     "iopub.execute_input": "2022-10-30T14:45:51.468642Z",
     "iopub.status.busy": "2022-10-30T14:45:51.467897Z",
     "iopub.status.idle": "2022-10-30T14:45:51.492444Z",
     "shell.execute_reply": "2022-10-30T14:45:51.491854Z"
    },
    "papermill": {
     "duration": 0.048612,
     "end_time": "2022-10-30T14:45:51.494899",
     "exception": false,
     "start_time": "2022-10-30T14:45:51.446287",
     "status": "completed"
    },
    "tags": []
   },
   "outputs": [
    {
     "name": "stdout",
     "output_type": "stream",
     "text": [
      "<class 'pandas.core.frame.DataFrame'>\n",
      "RangeIndex: 8693 entries, 0 to 8692\n",
      "Data columns (total 14 columns):\n",
      " #   Column        Non-Null Count  Dtype  \n",
      "---  ------        --------------  -----  \n",
      " 0   PassengerId   8693 non-null   object \n",
      " 1   HomePlanet    8492 non-null   object \n",
      " 2   CryoSleep     8476 non-null   object \n",
      " 3   Cabin         8494 non-null   object \n",
      " 4   Destination   8511 non-null   object \n",
      " 5   Age           8514 non-null   float64\n",
      " 6   VIP           8490 non-null   object \n",
      " 7   RoomService   8512 non-null   float64\n",
      " 8   FoodCourt     8510 non-null   float64\n",
      " 9   ShoppingMall  8485 non-null   float64\n",
      " 10  Spa           8510 non-null   float64\n",
      " 11  VRDeck        8505 non-null   float64\n",
      " 12  Name          8493 non-null   object \n",
      " 13  Transported   8693 non-null   bool   \n",
      "dtypes: bool(1), float64(6), object(7)\n",
      "memory usage: 891.5+ KB\n"
     ]
    }
   ],
   "source": [
    "train_data.info()"
   ]
  },
  {
   "cell_type": "markdown",
   "id": "659291d2",
   "metadata": {
    "papermill": {
     "duration": 0.020335,
     "end_time": "2022-10-30T14:45:51.578389",
     "exception": false,
     "start_time": "2022-10-30T14:45:51.558054",
     "status": "completed"
    },
    "tags": []
   },
   "source": [
    "### Exploratory Data Analysis \n",
    "\n",
    "It is to comprehend the data before making changes to the dataset. Essentially, in this research, we will use EDA to get these answers.\n",
    "\n",
    "What sort of data we obtain, such as file format, data size, number of columns, and so on.\n",
    "How complicated is this information, for example, how are the files connected to one another, and is there duplicate data?\n",
    "Is the information gathered sufficient to satisfy our objectives? Is this sufficient for modeling?"
   ]
  },
  {
   "cell_type": "code",
   "execution_count": 6,
   "id": "68319b8b",
   "metadata": {
    "execution": {
     "iopub.execute_input": "2022-10-30T14:45:51.667326Z",
     "iopub.status.busy": "2022-10-30T14:45:51.666758Z",
     "iopub.status.idle": "2022-10-30T14:45:51.697934Z",
     "shell.execute_reply": "2022-10-30T14:45:51.697110Z"
    },
    "papermill": {
     "duration": 0.055862,
     "end_time": "2022-10-30T14:45:51.699793",
     "exception": false,
     "start_time": "2022-10-30T14:45:51.643931",
     "status": "completed"
    },
    "tags": []
   },
   "outputs": [
    {
     "data": {
      "text/html": [
       "<div>\n",
       "<style scoped>\n",
       "    .dataframe tbody tr th:only-of-type {\n",
       "        vertical-align: middle;\n",
       "    }\n",
       "\n",
       "    .dataframe tbody tr th {\n",
       "        vertical-align: top;\n",
       "    }\n",
       "\n",
       "    .dataframe thead th {\n",
       "        text-align: right;\n",
       "    }\n",
       "</style>\n",
       "<table border=\"1\" class=\"dataframe\">\n",
       "  <thead>\n",
       "    <tr style=\"text-align: right;\">\n",
       "      <th></th>\n",
       "      <th>Age</th>\n",
       "      <th>RoomService</th>\n",
       "      <th>FoodCourt</th>\n",
       "      <th>ShoppingMall</th>\n",
       "      <th>Spa</th>\n",
       "      <th>VRDeck</th>\n",
       "    </tr>\n",
       "  </thead>\n",
       "  <tbody>\n",
       "    <tr>\n",
       "      <th>count</th>\n",
       "      <td>8514.000000</td>\n",
       "      <td>8512.000000</td>\n",
       "      <td>8510.000000</td>\n",
       "      <td>8485.000000</td>\n",
       "      <td>8510.000000</td>\n",
       "      <td>8505.000000</td>\n",
       "    </tr>\n",
       "    <tr>\n",
       "      <th>mean</th>\n",
       "      <td>28.827930</td>\n",
       "      <td>224.687617</td>\n",
       "      <td>458.077203</td>\n",
       "      <td>173.729169</td>\n",
       "      <td>311.138778</td>\n",
       "      <td>304.854791</td>\n",
       "    </tr>\n",
       "    <tr>\n",
       "      <th>std</th>\n",
       "      <td>14.489021</td>\n",
       "      <td>666.717663</td>\n",
       "      <td>1611.489240</td>\n",
       "      <td>604.696458</td>\n",
       "      <td>1136.705535</td>\n",
       "      <td>1145.717189</td>\n",
       "    </tr>\n",
       "    <tr>\n",
       "      <th>min</th>\n",
       "      <td>0.000000</td>\n",
       "      <td>0.000000</td>\n",
       "      <td>0.000000</td>\n",
       "      <td>0.000000</td>\n",
       "      <td>0.000000</td>\n",
       "      <td>0.000000</td>\n",
       "    </tr>\n",
       "    <tr>\n",
       "      <th>25%</th>\n",
       "      <td>19.000000</td>\n",
       "      <td>0.000000</td>\n",
       "      <td>0.000000</td>\n",
       "      <td>0.000000</td>\n",
       "      <td>0.000000</td>\n",
       "      <td>0.000000</td>\n",
       "    </tr>\n",
       "    <tr>\n",
       "      <th>50%</th>\n",
       "      <td>27.000000</td>\n",
       "      <td>0.000000</td>\n",
       "      <td>0.000000</td>\n",
       "      <td>0.000000</td>\n",
       "      <td>0.000000</td>\n",
       "      <td>0.000000</td>\n",
       "    </tr>\n",
       "    <tr>\n",
       "      <th>75%</th>\n",
       "      <td>38.000000</td>\n",
       "      <td>47.000000</td>\n",
       "      <td>76.000000</td>\n",
       "      <td>27.000000</td>\n",
       "      <td>59.000000</td>\n",
       "      <td>46.000000</td>\n",
       "    </tr>\n",
       "    <tr>\n",
       "      <th>max</th>\n",
       "      <td>79.000000</td>\n",
       "      <td>14327.000000</td>\n",
       "      <td>29813.000000</td>\n",
       "      <td>23492.000000</td>\n",
       "      <td>22408.000000</td>\n",
       "      <td>24133.000000</td>\n",
       "    </tr>\n",
       "  </tbody>\n",
       "</table>\n",
       "</div>"
      ],
      "text/plain": [
       "               Age   RoomService     FoodCourt  ShoppingMall           Spa  \\\n",
       "count  8514.000000   8512.000000   8510.000000   8485.000000   8510.000000   \n",
       "mean     28.827930    224.687617    458.077203    173.729169    311.138778   \n",
       "std      14.489021    666.717663   1611.489240    604.696458   1136.705535   \n",
       "min       0.000000      0.000000      0.000000      0.000000      0.000000   \n",
       "25%      19.000000      0.000000      0.000000      0.000000      0.000000   \n",
       "50%      27.000000      0.000000      0.000000      0.000000      0.000000   \n",
       "75%      38.000000     47.000000     76.000000     27.000000     59.000000   \n",
       "max      79.000000  14327.000000  29813.000000  23492.000000  22408.000000   \n",
       "\n",
       "             VRDeck  \n",
       "count   8505.000000  \n",
       "mean     304.854791  \n",
       "std     1145.717189  \n",
       "min        0.000000  \n",
       "25%        0.000000  \n",
       "50%        0.000000  \n",
       "75%       46.000000  \n",
       "max    24133.000000  "
      ]
     },
     "execution_count": 6,
     "metadata": {},
     "output_type": "execute_result"
    }
   ],
   "source": [
    "train_data.describe()"
   ]
  },
  {
   "cell_type": "markdown",
   "id": "7eda6ed8",
   "metadata": {
    "papermill": {
     "duration": 0.020932,
     "end_time": "2022-10-30T14:45:51.742980",
     "exception": false,
     "start_time": "2022-10-30T14:45:51.722048",
     "status": "completed"
    },
    "tags": []
   },
   "source": [
    "The statistical value is shown as\n",
    "\n",
    "count = number\n",
    "mean = average\n",
    "std = standard deviation\n",
    "min = the smallest number\n",
    "25% = 25th percentile value\n",
    "50% = 50th percentile\n",
    "75% = 75th percentile\n",
    "max = the largest value"
   ]
  },
  {
   "cell_type": "code",
   "execution_count": 7,
   "id": "0bf13d8d",
   "metadata": {
    "execution": {
     "iopub.execute_input": "2022-10-30T14:45:51.786641Z",
     "iopub.status.busy": "2022-10-30T14:45:51.786248Z",
     "iopub.status.idle": "2022-10-30T14:45:51.804309Z",
     "shell.execute_reply": "2022-10-30T14:45:51.803512Z"
    },
    "papermill": {
     "duration": 0.041752,
     "end_time": "2022-10-30T14:45:51.805899",
     "exception": false,
     "start_time": "2022-10-30T14:45:51.764147",
     "status": "completed"
    },
    "tags": []
   },
   "outputs": [
    {
     "data": {
      "text/html": [
       "<div>\n",
       "<style scoped>\n",
       "    .dataframe tbody tr th:only-of-type {\n",
       "        vertical-align: middle;\n",
       "    }\n",
       "\n",
       "    .dataframe tbody tr th {\n",
       "        vertical-align: top;\n",
       "    }\n",
       "\n",
       "    .dataframe thead th {\n",
       "        text-align: right;\n",
       "    }\n",
       "</style>\n",
       "<table border=\"1\" class=\"dataframe\">\n",
       "  <thead>\n",
       "    <tr style=\"text-align: right;\">\n",
       "      <th></th>\n",
       "      <th>PassengerId</th>\n",
       "      <th>HomePlanet</th>\n",
       "      <th>CryoSleep</th>\n",
       "      <th>Cabin</th>\n",
       "      <th>Destination</th>\n",
       "      <th>Age</th>\n",
       "      <th>VIP</th>\n",
       "      <th>RoomService</th>\n",
       "      <th>FoodCourt</th>\n",
       "      <th>ShoppingMall</th>\n",
       "      <th>Spa</th>\n",
       "      <th>VRDeck</th>\n",
       "      <th>Name</th>\n",
       "      <th>Transported</th>\n",
       "    </tr>\n",
       "  </thead>\n",
       "  <tbody>\n",
       "    <tr>\n",
       "      <th>0</th>\n",
       "      <td>0001_01</td>\n",
       "      <td>Europa</td>\n",
       "      <td>False</td>\n",
       "      <td>B/0/P</td>\n",
       "      <td>TRAPPIST-1e</td>\n",
       "      <td>39.0</td>\n",
       "      <td>False</td>\n",
       "      <td>0.0</td>\n",
       "      <td>0.0</td>\n",
       "      <td>0.0</td>\n",
       "      <td>0.0</td>\n",
       "      <td>0.0</td>\n",
       "      <td>Maham Ofracculy</td>\n",
       "      <td>False</td>\n",
       "    </tr>\n",
       "    <tr>\n",
       "      <th>1</th>\n",
       "      <td>0002_01</td>\n",
       "      <td>Earth</td>\n",
       "      <td>False</td>\n",
       "      <td>F/0/S</td>\n",
       "      <td>TRAPPIST-1e</td>\n",
       "      <td>24.0</td>\n",
       "      <td>False</td>\n",
       "      <td>109.0</td>\n",
       "      <td>9.0</td>\n",
       "      <td>25.0</td>\n",
       "      <td>549.0</td>\n",
       "      <td>44.0</td>\n",
       "      <td>Juanna Vines</td>\n",
       "      <td>True</td>\n",
       "    </tr>\n",
       "    <tr>\n",
       "      <th>2</th>\n",
       "      <td>0003_01</td>\n",
       "      <td>Europa</td>\n",
       "      <td>False</td>\n",
       "      <td>A/0/S</td>\n",
       "      <td>TRAPPIST-1e</td>\n",
       "      <td>58.0</td>\n",
       "      <td>True</td>\n",
       "      <td>43.0</td>\n",
       "      <td>3576.0</td>\n",
       "      <td>0.0</td>\n",
       "      <td>6715.0</td>\n",
       "      <td>49.0</td>\n",
       "      <td>Altark Susent</td>\n",
       "      <td>False</td>\n",
       "    </tr>\n",
       "    <tr>\n",
       "      <th>3</th>\n",
       "      <td>0003_02</td>\n",
       "      <td>Europa</td>\n",
       "      <td>False</td>\n",
       "      <td>A/0/S</td>\n",
       "      <td>TRAPPIST-1e</td>\n",
       "      <td>33.0</td>\n",
       "      <td>False</td>\n",
       "      <td>0.0</td>\n",
       "      <td>1283.0</td>\n",
       "      <td>371.0</td>\n",
       "      <td>3329.0</td>\n",
       "      <td>193.0</td>\n",
       "      <td>Solam Susent</td>\n",
       "      <td>False</td>\n",
       "    </tr>\n",
       "    <tr>\n",
       "      <th>4</th>\n",
       "      <td>0004_01</td>\n",
       "      <td>Earth</td>\n",
       "      <td>False</td>\n",
       "      <td>F/1/S</td>\n",
       "      <td>TRAPPIST-1e</td>\n",
       "      <td>16.0</td>\n",
       "      <td>False</td>\n",
       "      <td>303.0</td>\n",
       "      <td>70.0</td>\n",
       "      <td>151.0</td>\n",
       "      <td>565.0</td>\n",
       "      <td>2.0</td>\n",
       "      <td>Willy Santantines</td>\n",
       "      <td>True</td>\n",
       "    </tr>\n",
       "  </tbody>\n",
       "</table>\n",
       "</div>"
      ],
      "text/plain": [
       "  PassengerId HomePlanet CryoSleep  Cabin  Destination   Age    VIP  \\\n",
       "0     0001_01     Europa     False  B/0/P  TRAPPIST-1e  39.0  False   \n",
       "1     0002_01      Earth     False  F/0/S  TRAPPIST-1e  24.0  False   \n",
       "2     0003_01     Europa     False  A/0/S  TRAPPIST-1e  58.0   True   \n",
       "3     0003_02     Europa     False  A/0/S  TRAPPIST-1e  33.0  False   \n",
       "4     0004_01      Earth     False  F/1/S  TRAPPIST-1e  16.0  False   \n",
       "\n",
       "   RoomService  FoodCourt  ShoppingMall     Spa  VRDeck               Name  \\\n",
       "0          0.0        0.0           0.0     0.0     0.0    Maham Ofracculy   \n",
       "1        109.0        9.0          25.0   549.0    44.0       Juanna Vines   \n",
       "2         43.0     3576.0           0.0  6715.0    49.0      Altark Susent   \n",
       "3          0.0     1283.0         371.0  3329.0   193.0       Solam Susent   \n",
       "4        303.0       70.0         151.0   565.0     2.0  Willy Santantines   \n",
       "\n",
       "   Transported  \n",
       "0        False  \n",
       "1         True  \n",
       "2        False  \n",
       "3        False  \n",
       "4         True  "
      ]
     },
     "execution_count": 7,
     "metadata": {},
     "output_type": "execute_result"
    }
   ],
   "source": [
    "train_data.head(5)"
   ]
  },
  {
   "cell_type": "code",
   "execution_count": 8,
   "id": "9eded632",
   "metadata": {
    "execution": {
     "iopub.execute_input": "2022-10-30T14:45:51.896682Z",
     "iopub.status.busy": "2022-10-30T14:45:51.896188Z",
     "iopub.status.idle": "2022-10-30T14:45:51.905874Z",
     "shell.execute_reply": "2022-10-30T14:45:51.904704Z"
    },
    "papermill": {
     "duration": 0.035022,
     "end_time": "2022-10-30T14:45:51.907703",
     "exception": false,
     "start_time": "2022-10-30T14:45:51.872681",
     "status": "completed"
    },
    "tags": []
   },
   "outputs": [
    {
     "name": "stdout",
     "output_type": "stream",
     "text": [
      "Missing Values Training Set\n"
     ]
    },
    {
     "data": {
      "text/plain": [
       "PassengerId       0\n",
       "HomePlanet      201\n",
       "CryoSleep       217\n",
       "Cabin           199\n",
       "Destination     182\n",
       "Age             179\n",
       "VIP             203\n",
       "RoomService     181\n",
       "FoodCourt       183\n",
       "ShoppingMall    208\n",
       "Spa             183\n",
       "VRDeck          188\n",
       "Name            200\n",
       "Transported       0\n",
       "dtype: int64"
      ]
     },
     "execution_count": 8,
     "metadata": {},
     "output_type": "execute_result"
    }
   ],
   "source": [
    "print(\"Missing Values Training Set\")\n",
    "train_data.isna().sum()"
   ]
  },
  {
   "cell_type": "code",
   "execution_count": 9,
   "id": "4c1bab4c",
   "metadata": {
    "execution": {
     "iopub.execute_input": "2022-10-30T14:45:52.237890Z",
     "iopub.status.busy": "2022-10-30T14:45:52.237263Z",
     "iopub.status.idle": "2022-10-30T14:45:52.354453Z",
     "shell.execute_reply": "2022-10-30T14:45:52.353497Z"
    },
    "papermill": {
     "duration": 0.142438,
     "end_time": "2022-10-30T14:45:52.356644",
     "exception": false,
     "start_time": "2022-10-30T14:45:52.214206",
     "status": "completed"
    },
    "tags": []
   },
   "outputs": [
    {
     "data": {
      "text/plain": [
       "<AxesSubplot:xlabel='HomePlanet', ylabel='count'>"
      ]
     },
     "execution_count": 9,
     "metadata": {},
     "output_type": "execute_result"
    },
    {
     "data": {
      "image/png": "[encoded data removed]",
      "text/plain": [
       "<Figure size 432x432 with 1 Axes>"
      ]
     },
     "metadata": {
      "needs_background": "light"
     },
     "output_type": "display_data"
    }
   ],
   "source": [
    "#Make a bar graph comparing persons who have been relocated or have not been transferred to different dimensions from HomePlanet.\n",
    "\n",
    "plt.figure(figsize=(6,6))\n",
    "sns.countplot(data=train_data, x='HomePlanet')"
   ]
  },
  {
   "cell_type": "markdown",
   "id": "dd00385a",
   "metadata": {
    "papermill": {
     "duration": 0.023818,
     "end_time": "2022-10-30T14:45:52.411562",
     "exception": false,
     "start_time": "2022-10-30T14:45:52.387744",
     "status": "completed"
    },
    "tags": []
   },
   "source": [
    "Displays the values and counts in HomePlanet."
   ]
  },
  {
   "cell_type": "code",
   "execution_count": 10,
   "id": "ac9aa217",
   "metadata": {
    "execution": {
     "iopub.execute_input": "2022-10-30T14:45:52.458927Z",
     "iopub.status.busy": "2022-10-30T14:45:52.458179Z",
     "iopub.status.idle": "2022-10-30T14:45:52.464753Z",
     "shell.execute_reply": "2022-10-30T14:45:52.464153Z"
    },
    "papermill": {
     "duration": 0.032218,
     "end_time": "2022-10-30T14:45:52.466297",
     "exception": false,
     "start_time": "2022-10-30T14:45:52.434079",
     "status": "completed"
    },
    "tags": []
   },
   "outputs": [
    {
     "data": {
      "text/plain": [
       "Earth     4602\n",
       "Europa    2131\n",
       "Mars      1759\n",
       "Name: HomePlanet, dtype: int64"
      ]
     },
     "execution_count": 10,
     "metadata": {},
     "output_type": "execute_result"
    }
   ],
   "source": [
    "#Displays the values and counts in HomePlanet.\n",
    "\n",
    "train_data['HomePlanet'].value_counts()"
   ]
  },
  {
   "cell_type": "code",
   "execution_count": 11,
   "id": "78ddea8a",
   "metadata": {
    "execution": {
     "iopub.execute_input": "2022-10-30T14:45:52.556770Z",
     "iopub.status.busy": "2022-10-30T14:45:52.556207Z",
     "iopub.status.idle": "2022-10-30T14:45:52.791772Z",
     "shell.execute_reply": "2022-10-30T14:45:52.790718Z"
    },
    "papermill": {
     "duration": 0.260415,
     "end_time": "2022-10-30T14:45:52.793609",
     "exception": false,
     "start_time": "2022-10-30T14:45:52.533194",
     "status": "completed"
    },
    "tags": []
   },
   "outputs": [
    {
     "data": {
      "text/plain": [
       "<AxesSubplot:xlabel='Age', ylabel='Count'>"
      ]
     },
     "execution_count": 11,
     "metadata": {},
     "output_type": "execute_result"
    },
    {
     "data": {
      "image/png": "[encoded data removed]",
      "text/plain": [
       "<Figure size 648x360 with 1 Axes>"
      ]
     },
     "metadata": {
      "needs_background": "light"
     },
     "output_type": "display_data"
    }
   ],
   "source": [
    "#Make a histogram by comparing the numbers for each age group (Age).\n",
    "\n",
    "plt.figure(figsize=(9,5))\n",
    "sns.histplot(data=train_data, x='Age')"
   ]
  },
  {
   "cell_type": "code",
   "execution_count": 12,
   "id": "edfbb2e5",
   "metadata": {
    "execution": {
     "iopub.execute_input": "2022-10-30T14:45:52.887536Z",
     "iopub.status.busy": "2022-10-30T14:45:52.886484Z",
     "iopub.status.idle": "2022-10-30T14:45:53.009508Z",
     "shell.execute_reply": "2022-10-30T14:45:53.008826Z"
    },
    "papermill": {
     "duration": 0.149197,
     "end_time": "2022-10-30T14:45:53.011614",
     "exception": false,
     "start_time": "2022-10-30T14:45:52.862417",
     "status": "completed"
    },
    "tags": []
   },
   "outputs": [
    {
     "data": {
      "text/plain": [
       "<AxesSubplot:xlabel='Destination', ylabel='count'>"
      ]
     },
     "execution_count": 12,
     "metadata": {},
     "output_type": "execute_result"
    },
    {
     "data": {
      "image/png": "[encoded data removed]",
      "text/plain": [
       "<Figure size 360x288 with 1 Axes>"
      ]
     },
     "metadata": {
      "needs_background": "light"
     },
     "output_type": "display_data"
    }
   ],
   "source": [
    "#Make a bar chart by comparing the facts on where people have been relocated on whatever planet. (Destination)\n",
    "\n",
    "plt.figure(figsize=(5,4))\n",
    "sns.countplot(data=train_data, x='Destination')"
   ]
  },
  {
   "cell_type": "code",
   "execution_count": 13,
   "id": "ae8a26c7",
   "metadata": {
    "execution": {
     "iopub.execute_input": "2022-10-30T14:45:53.107432Z",
     "iopub.status.busy": "2022-10-30T14:45:53.107097Z",
     "iopub.status.idle": "2022-10-30T14:45:53.115300Z",
     "shell.execute_reply": "2022-10-30T14:45:53.114329Z"
    },
    "papermill": {
     "duration": 0.034245,
     "end_time": "2022-10-30T14:45:53.117044",
     "exception": false,
     "start_time": "2022-10-30T14:45:53.082799",
     "status": "completed"
    },
    "tags": []
   },
   "outputs": [
    {
     "data": {
      "text/plain": [
       "TRAPPIST-1e      5915\n",
       "55 Cancri e      1800\n",
       "PSO J318.5-22     796\n",
       "Name: Destination, dtype: int64"
      ]
     },
     "execution_count": 13,
     "metadata": {},
     "output_type": "execute_result"
    }
   ],
   "source": [
    "#Displays the value and number in Destination.\n",
    "\n",
    "train_data['Destination'].value_counts()"
   ]
  },
  {
   "cell_type": "code",
   "execution_count": 14,
   "id": "a5ebeca5",
   "metadata": {
    "execution": {
     "iopub.execute_input": "2022-10-30T14:45:53.209818Z",
     "iopub.status.busy": "2022-10-30T14:45:53.209466Z",
     "iopub.status.idle": "2022-10-30T14:45:53.327705Z",
     "shell.execute_reply": "2022-10-30T14:45:53.327087Z"
    },
    "papermill": {
     "duration": 0.14412,
     "end_time": "2022-10-30T14:45:53.329538",
     "exception": false,
     "start_time": "2022-10-30T14:45:53.185418",
     "status": "completed"
    },
    "tags": []
   },
   "outputs": [
    {
     "data": {
      "text/plain": [
       "<AxesSubplot:xlabel='CryoSleep', ylabel='count'>"
      ]
     },
     "execution_count": 14,
     "metadata": {},
     "output_type": "execute_result"
    },
    {
     "data": {
      "image/png": "[encoded data removed]",
      "text/plain": [
       "<Figure size 432x360 with 1 Axes>"
      ]
     },
     "metadata": {
      "needs_background": "light"
     },
     "output_type": "display_data"
    }
   ],
   "source": [
    "#Create a bar chart that compares CryoSleep people with those who are not CryoSleep.\n",
    "\n",
    "plt.figure(figsize=(6,5))\n",
    "sns.countplot(data=train_data, x='CryoSleep')"
   ]
  },
  {
   "cell_type": "code",
   "execution_count": 15,
   "id": "ba805e63",
   "metadata": {
    "execution": {
     "iopub.execute_input": "2022-10-30T14:45:53.435328Z",
     "iopub.status.busy": "2022-10-30T14:45:53.435002Z",
     "iopub.status.idle": "2022-10-30T14:45:53.442299Z",
     "shell.execute_reply": "2022-10-30T14:45:53.441424Z"
    },
    "papermill": {
     "duration": 0.032911,
     "end_time": "2022-10-30T14:45:53.443885",
     "exception": false,
     "start_time": "2022-10-30T14:45:53.410974",
     "status": "completed"
    },
    "tags": []
   },
   "outputs": [
    {
     "data": {
      "text/plain": [
       "False    5439\n",
       "True     3037\n",
       "Name: CryoSleep, dtype: int64"
      ]
     },
     "execution_count": 15,
     "metadata": {},
     "output_type": "execute_result"
    }
   ],
   "source": [
    "#Displays the values and amounts contained in CryoSleep.\n",
    "\n",
    "train_data['CryoSleep'].value_counts()"
   ]
  },
  {
   "cell_type": "code",
   "execution_count": 16,
   "id": "4a19b8b8",
   "metadata": {
    "execution": {
     "iopub.execute_input": "2022-10-30T14:45:53.538182Z",
     "iopub.status.busy": "2022-10-30T14:45:53.537697Z",
     "iopub.status.idle": "2022-10-30T14:45:53.676127Z",
     "shell.execute_reply": "2022-10-30T14:45:53.675163Z"
    },
    "papermill": {
     "duration": 0.165338,
     "end_time": "2022-10-30T14:45:53.678732",
     "exception": false,
     "start_time": "2022-10-30T14:45:53.513394",
     "status": "completed"
    },
    "tags": []
   },
   "outputs": [
    {
     "data": {
      "text/plain": [
       "<AxesSubplot:xlabel='VIP', ylabel='count'>"
      ]
     },
     "execution_count": 16,
     "metadata": {},
     "output_type": "execute_result"
    },
    {
     "data": {
      "image/png": "[encoded data removed]",
      "text/plain": [
       "<Figure size 360x360 with 1 Axes>"
      ]
     },
     "metadata": {
      "needs_background": "light"
     },
     "output_type": "display_data"
    }
   ],
   "source": [
    "#Make a bar chart comparing VIPs to the general population.\n",
    "\n",
    "plt.figure(figsize=(5,5))\n",
    "sns.countplot(data=train_data, x='VIP')"
   ]
  },
  {
   "cell_type": "code",
   "execution_count": 17,
   "id": "21bb56b0",
   "metadata": {
    "execution": {
     "iopub.execute_input": "2022-10-30T14:45:53.782762Z",
     "iopub.status.busy": "2022-10-30T14:45:53.782370Z",
     "iopub.status.idle": "2022-10-30T14:45:53.789417Z",
     "shell.execute_reply": "2022-10-30T14:45:53.788869Z"
    },
    "papermill": {
     "duration": 0.033978,
     "end_time": "2022-10-30T14:45:53.791480",
     "exception": false,
     "start_time": "2022-10-30T14:45:53.757502",
     "status": "completed"
    },
    "tags": []
   },
   "outputs": [
    {
     "data": {
      "text/plain": [
       "False    8291\n",
       "True      199\n",
       "Name: VIP, dtype: int64"
      ]
     },
     "execution_count": 17,
     "metadata": {},
     "output_type": "execute_result"
    }
   ],
   "source": [
    "#Displays the value and number of VIPs.\n",
    "\n",
    "train_data['VIP'].value_counts()"
   ]
  },
  {
   "cell_type": "code",
   "execution_count": 18,
   "id": "684b6ab4",
   "metadata": {
    "execution": {
     "iopub.execute_input": "2022-10-30T14:45:53.849581Z",
     "iopub.status.busy": "2022-10-30T14:45:53.848856Z",
     "iopub.status.idle": "2022-10-30T14:46:55.073837Z",
     "shell.execute_reply": "2022-10-30T14:46:55.072854Z"
    },
    "papermill": {
     "duration": 61.281266,
     "end_time": "2022-10-30T14:46:55.100121",
     "exception": false,
     "start_time": "2022-10-30T14:45:53.818855",
     "status": "completed"
    },
    "tags": []
   },
   "outputs": [
    {
     "data": {
      "text/plain": [
       "<AxesSubplot:xlabel='Cabin', ylabel='count'>"
      ]
     },
     "execution_count": 18,
     "metadata": {},
     "output_type": "execute_result"
    },
    {
     "data": {
      "image/png": "[encoded data removed]",
      "text/plain": [
       "<Figure size 864x576 with 1 Axes>"
      ]
     },
     "metadata": {
      "needs_background": "light"
     },
     "output_type": "display_data"
    }
   ],
   "source": [
    "plt.figure(figsize=(12,8))\n",
    "sns.countplot(data=train_data, x='Cabin')"
   ]
  },
  {
   "cell_type": "markdown",
   "id": "78319b7c",
   "metadata": {
    "papermill": {
     "duration": 0.024009,
     "end_time": "2022-10-30T14:46:55.148214",
     "exception": false,
     "start_time": "2022-10-30T14:46:55.124205",
     "status": "completed"
    },
    "tags": []
   },
   "source": [
    "The graph indicates that the values in Cabin are extremely dispersed. As a result, we will replace the value in Cabin with \"Z/9999/Z."
   ]
  },
  {
   "cell_type": "markdown",
   "id": "0744d474",
   "metadata": {
    "papermill": {
     "duration": 0.023703,
     "end_time": "2022-10-30T14:46:55.195819",
     "exception": false,
     "start_time": "2022-10-30T14:46:55.172116",
     "status": "completed"
    },
    "tags": []
   },
   "source": [
    "Make a bar chart that illustrates how much each component of the cost has cost. It displays the prices for RoomService, FoodCourt, ShoppingMall, Spa, and VRDeck."
   ]
  },
  {
   "cell_type": "code",
   "execution_count": 19,
   "id": "53befb07",
   "metadata": {
    "execution": {
     "iopub.execute_input": "2022-10-30T14:46:55.246350Z",
     "iopub.status.busy": "2022-10-30T14:46:55.245988Z",
     "iopub.status.idle": "2022-10-30T14:46:58.534226Z",
     "shell.execute_reply": "2022-10-30T14:46:58.533315Z"
    },
    "papermill": {
     "duration": 3.316389,
     "end_time": "2022-10-30T14:46:58.536662",
     "exception": false,
     "start_time": "2022-10-30T14:46:55.220273",
     "status": "completed"
    },
    "tags": []
   },
   "outputs": [
    {
     "data": {
      "image/png": "[encoded data removed]",
      "text/plain": [
       "<Figure size 720x1440 with 10 Axes>"
      ]
     },
     "metadata": {
      "needs_background": "light"
     },
     "output_type": "display_data"
    }
   ],
   "source": [
    "exp_feats=['RoomService', 'FoodCourt', 'ShoppingMall', 'Spa', 'VRDeck']\n",
    "\n",
    "fig=plt.figure(figsize=(10,20))\n",
    "for i, var_name in enumerate(exp_feats):\n",
    "    # Left plot\n",
    "    ax=fig.add_subplot(5,2,2*i+1)\n",
    "    sns.histplot(data=train_data, x=var_name, axes=ax, bins=30, kde=False, hue='Transported')\n",
    "    ax.set_title(var_name)\n",
    "    \n",
    "    # Right plot (truncated)\n",
    "    ax=fig.add_subplot(5,2,2*i+2)\n",
    "    sns.histplot(data=train_data, x=var_name, axes=ax, bins=30, kde=True, hue='Transported')\n",
    "    plt.ylim([0,100])\n",
    "    ax.set_title(var_name)\n",
    "fig.tight_layout()  # Improves appearance a bit\n",
    "plt.show()"
   ]
  },
  {
   "cell_type": "markdown",
   "id": "0a9703a2",
   "metadata": {
    "papermill": {
     "duration": 0.025444,
     "end_time": "2022-10-30T14:46:58.589027",
     "exception": false,
     "start_time": "2022-10-30T14:46:58.563583",
     "status": "completed"
    },
    "tags": []
   },
   "source": [
    "# Feature Engineering and Data Preprocessing\n",
    "\n",
    "Fill in the missing information by\n",
    "\n",
    "Instead of popular data, HomePlant, CryoSleep, Destination, and VIP data will be utilized.\n",
    "\n",
    "Because we do not know the precise number of seats, the Cabin will be replaced by a new value, Z/9999/Z.\n",
    "\n",
    "The passenger's middle age will be utilized in the Age column.\n",
    "\n",
    "VRDeck will utilize 0 instead of RoomService, FoodCourt, ShoppingMall, and Spa.\n"
   ]
  },
  {
   "cell_type": "code",
   "execution_count": 20,
   "id": "a1288b46",
   "metadata": {
    "execution": {
     "iopub.execute_input": "2022-10-30T14:46:58.645092Z",
     "iopub.status.busy": "2022-10-30T14:46:58.644771Z",
     "iopub.status.idle": "2022-10-30T14:46:58.668503Z",
     "shell.execute_reply": "2022-10-30T14:46:58.667569Z"
    },
    "papermill": {
     "duration": 0.053266,
     "end_time": "2022-10-30T14:46:58.671040",
     "exception": false,
     "start_time": "2022-10-30T14:46:58.617774",
     "status": "completed"
    },
    "tags": []
   },
   "outputs": [],
   "source": [
    "train_data['HomePlanet'].fillna(train_data['HomePlanet'].mode()[0], inplace=True)\n",
    "test_data['HomePlanet'].fillna(test_data['HomePlanet'].mode()[0], inplace=True)\n",
    "\n",
    "train_data['CryoSleep'].fillna(False, inplace=True)\n",
    "test_data['CryoSleep'].fillna(False, inplace=True)\n",
    "\n",
    "train_data['Cabin'].fillna('Z/9999/Z', inplace=True)\n",
    "test_data['Cabin'].fillna('Z/9999/Z', inplace=True)\n",
    "\n",
    "train_data['Destination'].fillna(train_data['Destination'].mode()[0], inplace=True)\n",
    "test_data['Destination'].fillna(test_data['Destination'].mode()[0], inplace=True)\n",
    "\n",
    "train_data['Age'].fillna((train_data['Age'].median()), inplace=True)\n",
    "test_data['Age'].fillna((test_data['Age'].median()), inplace=True)\n",
    "\n",
    "train_data['VIP'].fillna(False, inplace=True)\n",
    "test_data['VIP'].fillna(False, inplace=True)\n",
    "\n",
    "train_data[['RoomService','FoodCourt','ShoppingMall','Spa','VRDeck']] = train_data[['RoomService','FoodCourt','ShoppingMall','Spa','VRDeck']].fillna(0)\n",
    "test_data[['RoomService','FoodCourt','ShoppingMall','Spa','VRDeck']] = test_data[['RoomService','FoodCourt','ShoppingMall','Spa','VRDeck']].fillna(0)"
   ]
  },
  {
   "cell_type": "code",
   "execution_count": 21,
   "id": "8c0258e1",
   "metadata": {
    "execution": {
     "iopub.execute_input": "2022-10-30T14:46:58.806883Z",
     "iopub.status.busy": "2022-10-30T14:46:58.806249Z",
     "iopub.status.idle": "2022-10-30T14:46:58.813768Z",
     "shell.execute_reply": "2022-10-30T14:46:58.813136Z"
    },
    "papermill": {
     "duration": 0.045546,
     "end_time": "2022-10-30T14:46:58.815553",
     "exception": false,
     "start_time": "2022-10-30T14:46:58.770007",
     "status": "completed"
    },
    "tags": []
   },
   "outputs": [],
   "source": [
    "train_data['TotalSpent'] = train_data[['RoomService', 'FoodCourt', 'ShoppingMall', 'Spa', 'VRDeck']].sum(axis=1)\n",
    "test_data['TotalSpent'] = test_data[['RoomService', 'FoodCourt', 'ShoppingMall', 'Spa', 'VRDeck']].sum(axis=1)"
   ]
  },
  {
   "cell_type": "code",
   "execution_count": 22,
   "id": "46862f8d",
   "metadata": {
    "execution": {
     "iopub.execute_input": "2022-10-30T14:46:58.920473Z",
     "iopub.status.busy": "2022-10-30T14:46:58.920149Z",
     "iopub.status.idle": "2022-10-30T14:46:58.944960Z",
     "shell.execute_reply": "2022-10-30T14:46:58.944225Z"
    },
    "papermill": {
     "duration": 0.05341,
     "end_time": "2022-10-30T14:46:58.946785",
     "exception": false,
     "start_time": "2022-10-30T14:46:58.893375",
     "status": "completed"
    },
    "tags": []
   },
   "outputs": [],
   "source": [
    "train_data[[\"CabinDeck\", \"CabinNum\", \"CabinSide\"]] = train_data[\"Cabin\"].str.split(\"/\", expand=True)\n",
    "test_data[[\"CabinDeck\", \"CabinNum\", \"CabinSide\"]] = test_data[\"Cabin\"].str.split(\"/\", expand=True)"
   ]
  },
  {
   "cell_type": "code",
   "execution_count": 23,
   "id": "ce55776b",
   "metadata": {
    "execution": {
     "iopub.execute_input": "2022-10-30T14:46:59.051921Z",
     "iopub.status.busy": "2022-10-30T14:46:59.051102Z",
     "iopub.status.idle": "2022-10-30T14:46:59.204422Z",
     "shell.execute_reply": "2022-10-30T14:46:59.203295Z"
    },
    "papermill": {
     "duration": 0.183561,
     "end_time": "2022-10-30T14:46:59.207082",
     "exception": false,
     "start_time": "2022-10-30T14:46:59.023521",
     "status": "completed"
    },
    "tags": []
   },
   "outputs": [
    {
     "data": {
      "text/plain": [
       "<AxesSubplot:xlabel='CabinDeck', ylabel='count'>"
      ]
     },
     "execution_count": 23,
     "metadata": {},
     "output_type": "execute_result"
    },
    {
     "data": {
      "image/png": "[encoded data removed]",
      "text/plain": [
       "<Figure size 576x432 with 1 Axes>"
      ]
     },
     "metadata": {
      "needs_background": "light"
     },
     "output_type": "display_data"
    }
   ],
   "source": [
    "plt.figure(figsize=(8,6))\n",
    "sns.countplot(data=train_data, x='CabinDeck')"
   ]
  },
  {
   "cell_type": "code",
   "execution_count": 24,
   "id": "45bf4fde",
   "metadata": {
    "execution": {
     "iopub.execute_input": "2022-10-30T14:46:59.314454Z",
     "iopub.status.busy": "2022-10-30T14:46:59.313892Z",
     "iopub.status.idle": "2022-10-30T14:47:14.889623Z",
     "shell.execute_reply": "2022-10-30T14:47:14.888449Z"
    },
    "papermill": {
     "duration": 15.606064,
     "end_time": "2022-10-30T14:47:14.891900",
     "exception": false,
     "start_time": "2022-10-30T14:46:59.285836",
     "status": "completed"
    },
    "tags": []
   },
   "outputs": [
    {
     "data": {
      "text/plain": [
       "<AxesSubplot:xlabel='CabinNum', ylabel='count'>"
      ]
     },
     "execution_count": 24,
     "metadata": {},
     "output_type": "execute_result"
    },
    {
     "data": {
      "image/png": "[encoded data removed]",
      "text/plain": [
       "<Figure size 576x216 with 1 Axes>"
      ]
     },
     "metadata": {
      "needs_background": "light"
     },
     "output_type": "display_data"
    }
   ],
   "source": [
    "plt.figure(figsize=(8,3))\n",
    "sns.countplot(data=train_data, x='CabinNum')"
   ]
  },
  {
   "cell_type": "code",
   "execution_count": 25,
   "id": "e431c535",
   "metadata": {
    "execution": {
     "iopub.execute_input": "2022-10-30T14:47:14.997377Z",
     "iopub.status.busy": "2022-10-30T14:47:14.996899Z",
     "iopub.status.idle": "2022-10-30T14:47:15.116851Z",
     "shell.execute_reply": "2022-10-30T14:47:15.116196Z"
    },
    "papermill": {
     "duration": 0.14917,
     "end_time": "2022-10-30T14:47:15.118802",
     "exception": false,
     "start_time": "2022-10-30T14:47:14.969632",
     "status": "completed"
    },
    "tags": []
   },
   "outputs": [
    {
     "data": {
      "text/plain": [
       "<AxesSubplot:xlabel='CabinSide', ylabel='count'>"
      ]
     },
     "execution_count": 25,
     "metadata": {},
     "output_type": "execute_result"
    },
    {
     "data": {
      "image/png": "[encoded data removed]",
      "text/plain": [
       "<Figure size 576x360 with 1 Axes>"
      ]
     },
     "metadata": {
      "needs_background": "light"
     },
     "output_type": "display_data"
    }
   ],
   "source": [
    "plt.figure(figsize=(8,5))\n",
    "sns.countplot(data=train_data, x='CabinSide')"
   ]
  },
  {
   "cell_type": "code",
   "execution_count": 26,
   "id": "1cbec24e",
   "metadata": {
    "execution": {
     "iopub.execute_input": "2022-10-30T14:47:15.235333Z",
     "iopub.status.busy": "2022-10-30T14:47:15.235009Z",
     "iopub.status.idle": "2022-10-30T14:47:15.260674Z",
     "shell.execute_reply": "2022-10-30T14:47:15.259635Z"
    },
    "papermill": {
     "duration": 0.055156,
     "end_time": "2022-10-30T14:47:15.262600",
     "exception": false,
     "start_time": "2022-10-30T14:47:15.207444",
     "status": "completed"
    },
    "tags": []
   },
   "outputs": [],
   "source": [
    "train_data[[\"Group\", \"GroupPos\"]] = train_data[\"PassengerId\"].str.split(\"_\", expand=True)\n",
    "test_data[[\"Group\", \"GroupPos\"]] = test_data[\"PassengerId\"].str.split(\"_\", expand=True)"
   ]
  },
  {
   "cell_type": "code",
   "execution_count": 27,
   "id": "480688a0",
   "metadata": {
    "execution": {
     "iopub.execute_input": "2022-10-30T14:47:15.368464Z",
     "iopub.status.busy": "2022-10-30T14:47:15.368123Z",
     "iopub.status.idle": "2022-10-30T14:48:09.259785Z",
     "shell.execute_reply": "2022-10-30T14:48:09.258680Z"
    },
    "papermill": {
     "duration": 53.946705,
     "end_time": "2022-10-30T14:48:09.287718",
     "exception": false,
     "start_time": "2022-10-30T14:47:15.341013",
     "status": "completed"
    },
    "tags": []
   },
   "outputs": [
    {
     "data": {
      "text/plain": [
       "<AxesSubplot:xlabel='Group', ylabel='count'>"
      ]
     },
     "execution_count": 27,
     "metadata": {},
     "output_type": "execute_result"
    },
    {
     "data": {
      "image/png": "[encoded data removed]",
      "text/plain": [
       "<Figure size 504x360 with 1 Axes>"
      ]
     },
     "metadata": {
      "needs_background": "light"
     },
     "output_type": "display_data"
    }
   ],
   "source": [
    "plt.figure(figsize=(7,5))\n",
    "sns.countplot(data=train_data, x='Group')"
   ]
  },
  {
   "cell_type": "code",
   "execution_count": 28,
   "id": "1114ff4c",
   "metadata": {
    "execution": {
     "iopub.execute_input": "2022-10-30T14:48:09.396606Z",
     "iopub.status.busy": "2022-10-30T14:48:09.396295Z",
     "iopub.status.idle": "2022-10-30T14:48:09.554047Z",
     "shell.execute_reply": "2022-10-30T14:48:09.553210Z"
    },
    "papermill": {
     "duration": 0.188145,
     "end_time": "2022-10-30T14:48:09.556366",
     "exception": false,
     "start_time": "2022-10-30T14:48:09.368221",
     "status": "completed"
    },
    "tags": []
   },
   "outputs": [
    {
     "data": {
      "text/plain": [
       "<AxesSubplot:xlabel='GroupPos', ylabel='count'>"
      ]
     },
     "execution_count": 28,
     "metadata": {},
     "output_type": "execute_result"
    },
    {
     "data": {
      "image/png": "[encoded data removed]",
      "text/plain": [
       "<Figure size 360x216 with 1 Axes>"
      ]
     },
     "metadata": {
      "needs_background": "light"
     },
     "output_type": "display_data"
    }
   ],
   "source": [
    "plt.figure(figsize=(5,3))\n",
    "sns.countplot(data=train_data, x='GroupPos')"
   ]
  },
  {
   "cell_type": "code",
   "execution_count": 29,
   "id": "651df987",
   "metadata": {
    "execution": {
     "iopub.execute_input": "2022-10-30T14:48:09.672047Z",
     "iopub.status.busy": "2022-10-30T14:48:09.671729Z",
     "iopub.status.idle": "2022-10-30T14:48:09.679502Z",
     "shell.execute_reply": "2022-10-30T14:48:09.678848Z"
    },
    "papermill": {
     "duration": 0.039265,
     "end_time": "2022-10-30T14:48:09.681088",
     "exception": false,
     "start_time": "2022-10-30T14:48:09.641823",
     "status": "completed"
    },
    "tags": []
   },
   "outputs": [
    {
     "data": {
      "text/plain": [
       "01    6217\n",
       "02    1412\n",
       "03     571\n",
       "04     231\n",
       "05     128\n",
       "06      75\n",
       "07      46\n",
       "08      13\n",
       "Name: GroupPos, dtype: int64"
      ]
     },
     "execution_count": 29,
     "metadata": {},
     "output_type": "execute_result"
    }
   ],
   "source": [
    "train_data['GroupPos'].value_counts()"
   ]
  },
  {
   "cell_type": "code",
   "execution_count": 30,
   "id": "39586b2b",
   "metadata": {
    "execution": {
     "iopub.execute_input": "2022-10-30T14:48:09.793979Z",
     "iopub.status.busy": "2022-10-30T14:48:09.793616Z",
     "iopub.status.idle": "2022-10-30T14:48:10.004899Z",
     "shell.execute_reply": "2022-10-30T14:48:10.004257Z"
    },
    "papermill": {
     "duration": 0.241456,
     "end_time": "2022-10-30T14:48:10.006548",
     "exception": false,
     "start_time": "2022-10-30T14:48:09.765092",
     "status": "completed"
    },
    "tags": []
   },
   "outputs": [
    {
     "data": {
      "text/plain": [
       "<AxesSubplot:xlabel='AgeGroup', ylabel='count'>"
      ]
     },
     "execution_count": 30,
     "metadata": {},
     "output_type": "execute_result"
    },
    {
     "data": {
      "image/png": "[encoded data removed]",
      "text/plain": [
       "<Figure size 432x288 with 1 Axes>"
      ]
     },
     "metadata": {
      "needs_background": "light"
     },
     "output_type": "display_data"
    }
   ],
   "source": [
    "train_data['AgeGroup'] = np.nan\n",
    "train_data.loc[train_data['Age'] <= 5, 'AgeGroup'] = 0\n",
    "train_data.loc[(train_data['Age'] > 5) & (train_data['Age'] <= 12), 'AgeGroup'] = 1\n",
    "train_data.loc[(train_data['Age'] > 12) & (train_data['Age'] <= 17), 'AgeGroup'] = 2\n",
    "train_data.loc[(train_data['Age'] > 17) & (train_data['Age'] <= 25), 'AgeGroup'] = 3\n",
    "train_data.loc[(train_data['Age'] > 25) & (train_data['Age'] <= 30), 'AgeGroup'] = 4\n",
    "train_data.loc[(train_data['Age'] > 30) & (train_data['Age'] <= 50), 'AgeGroup'] = 5\n",
    "train_data.loc[train_data['Age'] > 50, 'AgeGroup'] = 6\n",
    "\n",
    "test_data['AgeGroup'] = np.nan\n",
    "test_data.loc[test_data['Age'] <= 5, 'AgeGroup'] = 0\n",
    "test_data.loc[(test_data['Age'] > 5) & (test_data['Age'] <= 12), 'AgeGroup'] = 1\n",
    "test_data.loc[(test_data['Age'] > 12) & (test_data['Age'] <= 17), 'AgeGroup'] = 2\n",
    "test_data.loc[(test_data['Age'] > 17) & (test_data['Age'] <= 25), 'AgeGroup'] = 3\n",
    "test_data.loc[(test_data['Age'] > 25) & (test_data['Age'] <= 30), 'AgeGroup'] = 4\n",
    "test_data.loc[(test_data['Age'] > 30) & (test_data['Age'] <= 50), 'AgeGroup'] = 5\n",
    "test_data.loc[test_data['Age'] > 50, 'AgeGroup'] = 6\n",
    "\n",
    "sns.countplot(data=train_data, x='AgeGroup', hue='Transported')"
   ]
  },
  {
   "cell_type": "markdown",
   "id": "c82e3959",
   "metadata": {
    "papermill": {
     "duration": 0.026703,
     "end_time": "2022-10-30T14:48:10.061600",
     "exception": false,
     "start_time": "2022-10-30T14:48:10.034897",
     "status": "completed"
    },
    "tags": []
   },
   "source": [
    "# Data Modeling "
   ]
  },
  {
   "cell_type": "code",
   "execution_count": 31,
   "id": "91550710",
   "metadata": {
    "execution": {
     "iopub.execute_input": "2022-10-30T14:48:10.120084Z",
     "iopub.status.busy": "2022-10-30T14:48:10.119321Z",
     "iopub.status.idle": "2022-10-30T14:48:10.241014Z",
     "shell.execute_reply": "2022-10-30T14:48:10.239863Z"
    },
    "papermill": {
     "duration": 0.15471,
     "end_time": "2022-10-30T14:48:10.243335",
     "exception": false,
     "start_time": "2022-10-30T14:48:10.088625",
     "status": "completed"
    },
    "tags": []
   },
   "outputs": [],
   "source": [
    "from sklearn.preprocessing import LabelEncoder\n",
    "label_enc = LabelEncoder()\n",
    "\n",
    "train_data['CryoSleep']=label_enc.fit_transform(train_data['CryoSleep'])\n",
    "test_data['CryoSleep']=label_enc.fit_transform(test_data['CryoSleep'])\n",
    "\n",
    "train_data['VIP']=label_enc.fit_transform(train_data['VIP'])\n",
    "test_data['VIP']=label_enc.fit_transform(test_data['VIP'])\n",
    "\n",
    "train_data['Transported']=label_enc.fit_transform(train_data['Transported'])"
   ]
  },
  {
   "cell_type": "code",
   "execution_count": 32,
   "id": "54f36f3e",
   "metadata": {
    "execution": {
     "iopub.execute_input": "2022-10-30T14:48:10.356786Z",
     "iopub.status.busy": "2022-10-30T14:48:10.356407Z",
     "iopub.status.idle": "2022-10-30T14:48:10.404200Z",
     "shell.execute_reply": "2022-10-30T14:48:10.403408Z"
    },
    "papermill": {
     "duration": 0.079008,
     "end_time": "2022-10-30T14:48:10.405861",
     "exception": false,
     "start_time": "2022-10-30T14:48:10.326853",
     "status": "completed"
    },
    "tags": []
   },
   "outputs": [
    {
     "data": {
      "text/html": [
       "<div>\n",
       "<style scoped>\n",
       "    .dataframe tbody tr th:only-of-type {\n",
       "        vertical-align: middle;\n",
       "    }\n",
       "\n",
       "    .dataframe tbody tr th {\n",
       "        vertical-align: top;\n",
       "    }\n",
       "\n",
       "    .dataframe thead th {\n",
       "        text-align: right;\n",
       "    }\n",
       "</style>\n",
       "<table border=\"1\" class=\"dataframe\">\n",
       "  <thead>\n",
       "    <tr style=\"text-align: right;\">\n",
       "      <th></th>\n",
       "      <th>PassengerId</th>\n",
       "      <th>CryoSleep</th>\n",
       "      <th>Cabin</th>\n",
       "      <th>Age</th>\n",
       "      <th>VIP</th>\n",
       "      <th>RoomService</th>\n",
       "      <th>FoodCourt</th>\n",
       "      <th>ShoppingMall</th>\n",
       "      <th>Spa</th>\n",
       "      <th>VRDeck</th>\n",
       "      <th>...</th>\n",
       "      <th>CabinDeck_C</th>\n",
       "      <th>CabinDeck_D</th>\n",
       "      <th>CabinDeck_E</th>\n",
       "      <th>CabinDeck_F</th>\n",
       "      <th>CabinDeck_G</th>\n",
       "      <th>CabinDeck_T</th>\n",
       "      <th>CabinDeck_Z</th>\n",
       "      <th>CabinSide_P</th>\n",
       "      <th>CabinSide_S</th>\n",
       "      <th>CabinSide_Z</th>\n",
       "    </tr>\n",
       "  </thead>\n",
       "  <tbody>\n",
       "    <tr>\n",
       "      <th>0</th>\n",
       "      <td>0013_01</td>\n",
       "      <td>1</td>\n",
       "      <td>G/3/S</td>\n",
       "      <td>27.0</td>\n",
       "      <td>0</td>\n",
       "      <td>0.0</td>\n",
       "      <td>0.0</td>\n",
       "      <td>0.0</td>\n",
       "      <td>0.0</td>\n",
       "      <td>0.0</td>\n",
       "      <td>...</td>\n",
       "      <td>0</td>\n",
       "      <td>0</td>\n",
       "      <td>0</td>\n",
       "      <td>0</td>\n",
       "      <td>1</td>\n",
       "      <td>0</td>\n",
       "      <td>0</td>\n",
       "      <td>0</td>\n",
       "      <td>1</td>\n",
       "      <td>0</td>\n",
       "    </tr>\n",
       "    <tr>\n",
       "      <th>1</th>\n",
       "      <td>0018_01</td>\n",
       "      <td>0</td>\n",
       "      <td>F/4/S</td>\n",
       "      <td>19.0</td>\n",
       "      <td>0</td>\n",
       "      <td>0.0</td>\n",
       "      <td>9.0</td>\n",
       "      <td>0.0</td>\n",
       "      <td>2823.0</td>\n",
       "      <td>0.0</td>\n",
       "      <td>...</td>\n",
       "      <td>0</td>\n",
       "      <td>0</td>\n",
       "      <td>0</td>\n",
       "      <td>1</td>\n",
       "      <td>0</td>\n",
       "      <td>0</td>\n",
       "      <td>0</td>\n",
       "      <td>0</td>\n",
       "      <td>1</td>\n",
       "      <td>0</td>\n",
       "    </tr>\n",
       "    <tr>\n",
       "      <th>2</th>\n",
       "      <td>0019_01</td>\n",
       "      <td>1</td>\n",
       "      <td>C/0/S</td>\n",
       "      <td>31.0</td>\n",
       "      <td>0</td>\n",
       "      <td>0.0</td>\n",
       "      <td>0.0</td>\n",
       "      <td>0.0</td>\n",
       "      <td>0.0</td>\n",
       "      <td>0.0</td>\n",
       "      <td>...</td>\n",
       "      <td>1</td>\n",
       "      <td>0</td>\n",
       "      <td>0</td>\n",
       "      <td>0</td>\n",
       "      <td>0</td>\n",
       "      <td>0</td>\n",
       "      <td>0</td>\n",
       "      <td>0</td>\n",
       "      <td>1</td>\n",
       "      <td>0</td>\n",
       "    </tr>\n",
       "    <tr>\n",
       "      <th>3</th>\n",
       "      <td>0021_01</td>\n",
       "      <td>0</td>\n",
       "      <td>C/1/S</td>\n",
       "      <td>38.0</td>\n",
       "      <td>0</td>\n",
       "      <td>0.0</td>\n",
       "      <td>6652.0</td>\n",
       "      <td>0.0</td>\n",
       "      <td>181.0</td>\n",
       "      <td>585.0</td>\n",
       "      <td>...</td>\n",
       "      <td>1</td>\n",
       "      <td>0</td>\n",
       "      <td>0</td>\n",
       "      <td>0</td>\n",
       "      <td>0</td>\n",
       "      <td>0</td>\n",
       "      <td>0</td>\n",
       "      <td>0</td>\n",
       "      <td>1</td>\n",
       "      <td>0</td>\n",
       "    </tr>\n",
       "    <tr>\n",
       "      <th>4</th>\n",
       "      <td>0023_01</td>\n",
       "      <td>0</td>\n",
       "      <td>F/5/S</td>\n",
       "      <td>20.0</td>\n",
       "      <td>0</td>\n",
       "      <td>10.0</td>\n",
       "      <td>0.0</td>\n",
       "      <td>635.0</td>\n",
       "      <td>0.0</td>\n",
       "      <td>0.0</td>\n",
       "      <td>...</td>\n",
       "      <td>0</td>\n",
       "      <td>0</td>\n",
       "      <td>0</td>\n",
       "      <td>1</td>\n",
       "      <td>0</td>\n",
       "      <td>0</td>\n",
       "      <td>0</td>\n",
       "      <td>0</td>\n",
       "      <td>1</td>\n",
       "      <td>0</td>\n",
       "    </tr>\n",
       "    <tr>\n",
       "      <th>...</th>\n",
       "      <td>...</td>\n",
       "      <td>...</td>\n",
       "      <td>...</td>\n",
       "      <td>...</td>\n",
       "      <td>...</td>\n",
       "      <td>...</td>\n",
       "      <td>...</td>\n",
       "      <td>...</td>\n",
       "      <td>...</td>\n",
       "      <td>...</td>\n",
       "      <td>...</td>\n",
       "      <td>...</td>\n",
       "      <td>...</td>\n",
       "      <td>...</td>\n",
       "      <td>...</td>\n",
       "      <td>...</td>\n",
       "      <td>...</td>\n",
       "      <td>...</td>\n",
       "      <td>...</td>\n",
       "      <td>...</td>\n",
       "      <td>...</td>\n",
       "    </tr>\n",
       "    <tr>\n",
       "      <th>4272</th>\n",
       "      <td>9266_02</td>\n",
       "      <td>1</td>\n",
       "      <td>G/1496/S</td>\n",
       "      <td>34.0</td>\n",
       "      <td>0</td>\n",
       "      <td>0.0</td>\n",
       "      <td>0.0</td>\n",
       "      <td>0.0</td>\n",
       "      <td>0.0</td>\n",
       "      <td>0.0</td>\n",
       "      <td>...</td>\n",
       "      <td>0</td>\n",
       "      <td>0</td>\n",
       "      <td>0</td>\n",
       "      <td>0</td>\n",
       "      <td>1</td>\n",
       "      <td>0</td>\n",
       "      <td>0</td>\n",
       "      <td>0</td>\n",
       "      <td>1</td>\n",
       "      <td>0</td>\n",
       "    </tr>\n",
       "    <tr>\n",
       "      <th>4273</th>\n",
       "      <td>9269_01</td>\n",
       "      <td>0</td>\n",
       "      <td>Z/9999/Z</td>\n",
       "      <td>42.0</td>\n",
       "      <td>0</td>\n",
       "      <td>0.0</td>\n",
       "      <td>847.0</td>\n",
       "      <td>17.0</td>\n",
       "      <td>10.0</td>\n",
       "      <td>144.0</td>\n",
       "      <td>...</td>\n",
       "      <td>0</td>\n",
       "      <td>0</td>\n",
       "      <td>0</td>\n",
       "      <td>0</td>\n",
       "      <td>0</td>\n",
       "      <td>0</td>\n",
       "      <td>1</td>\n",
       "      <td>0</td>\n",
       "      <td>0</td>\n",
       "      <td>1</td>\n",
       "    </tr>\n",
       "    <tr>\n",
       "      <th>4274</th>\n",
       "      <td>9271_01</td>\n",
       "      <td>1</td>\n",
       "      <td>D/296/P</td>\n",
       "      <td>26.0</td>\n",
       "      <td>0</td>\n",
       "      <td>0.0</td>\n",
       "      <td>0.0</td>\n",
       "      <td>0.0</td>\n",
       "      <td>0.0</td>\n",
       "      <td>0.0</td>\n",
       "      <td>...</td>\n",
       "      <td>0</td>\n",
       "      <td>1</td>\n",
       "      <td>0</td>\n",
       "      <td>0</td>\n",
       "      <td>0</td>\n",
       "      <td>0</td>\n",
       "      <td>0</td>\n",
       "      <td>1</td>\n",
       "      <td>0</td>\n",
       "      <td>0</td>\n",
       "    </tr>\n",
       "    <tr>\n",
       "      <th>4275</th>\n",
       "      <td>9273_01</td>\n",
       "      <td>0</td>\n",
       "      <td>D/297/P</td>\n",
       "      <td>26.0</td>\n",
       "      <td>0</td>\n",
       "      <td>0.0</td>\n",
       "      <td>2680.0</td>\n",
       "      <td>0.0</td>\n",
       "      <td>0.0</td>\n",
       "      <td>523.0</td>\n",
       "      <td>...</td>\n",
       "      <td>0</td>\n",
       "      <td>1</td>\n",
       "      <td>0</td>\n",
       "      <td>0</td>\n",
       "      <td>0</td>\n",
       "      <td>0</td>\n",
       "      <td>0</td>\n",
       "      <td>1</td>\n",
       "      <td>0</td>\n",
       "      <td>0</td>\n",
       "    </tr>\n",
       "    <tr>\n",
       "      <th>4276</th>\n",
       "      <td>9277_01</td>\n",
       "      <td>1</td>\n",
       "      <td>G/1498/S</td>\n",
       "      <td>43.0</td>\n",
       "      <td>0</td>\n",
       "      <td>0.0</td>\n",
       "      <td>0.0</td>\n",
       "      <td>0.0</td>\n",
       "      <td>0.0</td>\n",
       "      <td>0.0</td>\n",
       "      <td>...</td>\n",
       "      <td>0</td>\n",
       "      <td>0</td>\n",
       "      <td>0</td>\n",
       "      <td>0</td>\n",
       "      <td>1</td>\n",
       "      <td>0</td>\n",
       "      <td>0</td>\n",
       "      <td>0</td>\n",
       "      <td>1</td>\n",
       "      <td>0</td>\n",
       "    </tr>\n",
       "  </tbody>\n",
       "</table>\n",
       "<p>4277 rows × 34 columns</p>\n",
       "</div>"
      ],
      "text/plain": [
       "     PassengerId  CryoSleep     Cabin   Age  VIP  RoomService  FoodCourt  \\\n",
       "0        0013_01          1     G/3/S  27.0    0          0.0        0.0   \n",
       "1        0018_01          0     F/4/S  19.0    0          0.0        9.0   \n",
       "2        0019_01          1     C/0/S  31.0    0          0.0        0.0   \n",
       "3        0021_01          0     C/1/S  38.0    0          0.0     6652.0   \n",
       "4        0023_01          0     F/5/S  20.0    0         10.0        0.0   \n",
       "...          ...        ...       ...   ...  ...          ...        ...   \n",
       "4272     9266_02          1  G/1496/S  34.0    0          0.0        0.0   \n",
       "4273     9269_01          0  Z/9999/Z  42.0    0          0.0      847.0   \n",
       "4274     9271_01          1   D/296/P  26.0    0          0.0        0.0   \n",
       "4275     9273_01          0   D/297/P  26.0    0          0.0     2680.0   \n",
       "4276     9277_01          1  G/1498/S  43.0    0          0.0        0.0   \n",
       "\n",
       "      ShoppingMall     Spa  VRDeck  ... CabinDeck_C  CabinDeck_D CabinDeck_E  \\\n",
       "0              0.0     0.0     0.0  ...           0            0           0   \n",
       "1              0.0  2823.0     0.0  ...           0            0           0   \n",
       "2              0.0     0.0     0.0  ...           1            0           0   \n",
       "3              0.0   181.0   585.0  ...           1            0           0   \n",
       "4            635.0     0.0     0.0  ...           0            0           0   \n",
       "...            ...     ...     ...  ...         ...          ...         ...   \n",
       "4272           0.0     0.0     0.0  ...           0            0           0   \n",
       "4273          17.0    10.0   144.0  ...           0            0           0   \n",
       "4274           0.0     0.0     0.0  ...           0            1           0   \n",
       "4275           0.0     0.0   523.0  ...           0            1           0   \n",
       "4276           0.0     0.0     0.0  ...           0            0           0   \n",
       "\n",
       "     CabinDeck_F CabinDeck_G  CabinDeck_T  CabinDeck_Z  CabinSide_P  \\\n",
       "0              0           1            0            0            0   \n",
       "1              1           0            0            0            0   \n",
       "2              0           0            0            0            0   \n",
       "3              0           0            0            0            0   \n",
       "4              1           0            0            0            0   \n",
       "...          ...         ...          ...          ...          ...   \n",
       "4272           0           1            0            0            0   \n",
       "4273           0           0            0            1            0   \n",
       "4274           0           0            0            0            1   \n",
       "4275           0           0            0            0            1   \n",
       "4276           0           1            0            0            0   \n",
       "\n",
       "      CabinSide_S  CabinSide_Z  \n",
       "0               1            0  \n",
       "1               1            0  \n",
       "2               1            0  \n",
       "3               1            0  \n",
       "4               1            0  \n",
       "...           ...          ...  \n",
       "4272            1            0  \n",
       "4273            0            1  \n",
       "4274            0            0  \n",
       "4275            0            0  \n",
       "4276            1            0  \n",
       "\n",
       "[4277 rows x 34 columns]"
      ]
     },
     "execution_count": 32,
     "metadata": {},
     "output_type": "execute_result"
    }
   ],
   "source": [
    "from sklearn.preprocessing import OneHotEncoder\n",
    "\n",
    "train_data = pd.get_dummies(train_data, columns = ['HomePlanet','Destination', 'CabinDeck', 'CabinSide'])\n",
    "train_data\n",
    "\n",
    "test_data = pd.get_dummies(test_data, columns = ['HomePlanet','Destination', 'CabinDeck', 'CabinSide'])\n",
    "test_data"
   ]
  },
  {
   "cell_type": "code",
   "execution_count": 33,
   "id": "2ad87e2f",
   "metadata": {
    "execution": {
     "iopub.execute_input": "2022-10-30T14:48:10.517324Z",
     "iopub.status.busy": "2022-10-30T14:48:10.516402Z",
     "iopub.status.idle": "2022-10-30T14:48:10.526325Z",
     "shell.execute_reply": "2022-10-30T14:48:10.525042Z"
    },
    "papermill": {
     "duration": 0.040475,
     "end_time": "2022-10-30T14:48:10.528165",
     "exception": false,
     "start_time": "2022-10-30T14:48:10.487690",
     "status": "completed"
    },
    "tags": []
   },
   "outputs": [],
   "source": [
    "#Use the drop_col command to discard unused data. In this case, drop Cabin Name, CabinNum, Group and PassengerId.\n",
    "\n",
    "columns_drop = ['Cabin', 'Name', 'CabinNum', 'Group', 'PassengerId']\n",
    "train_data = train_data.drop(columns = columns_drop)\n",
    "test_data = test_data.drop(columns = columns_drop)"
   ]
  },
  {
   "cell_type": "code",
   "execution_count": 34,
   "id": "10e10fc9",
   "metadata": {
    "execution": {
     "iopub.execute_input": "2022-10-30T14:48:10.646362Z",
     "iopub.status.busy": "2022-10-30T14:48:10.645983Z",
     "iopub.status.idle": "2022-10-30T14:48:10.651481Z",
     "shell.execute_reply": "2022-10-30T14:48:10.650695Z"
    },
    "papermill": {
     "duration": 0.037324,
     "end_time": "2022-10-30T14:48:10.653247",
     "exception": false,
     "start_time": "2022-10-30T14:48:10.615923",
     "status": "completed"
    },
    "tags": []
   },
   "outputs": [
    {
     "data": {
      "text/plain": [
       "Index(['CryoSleep', 'Age', 'VIP', 'RoomService', 'FoodCourt', 'ShoppingMall',\n",
       "       'Spa', 'VRDeck', 'Transported', 'TotalSpent', 'GroupPos', 'AgeGroup',\n",
       "       'HomePlanet_Earth', 'HomePlanet_Europa', 'HomePlanet_Mars',\n",
       "       'Destination_55 Cancri e', 'Destination_PSO J318.5-22',\n",
       "       'Destination_TRAPPIST-1e', 'CabinDeck_A', 'CabinDeck_B', 'CabinDeck_C',\n",
       "       'CabinDeck_D', 'CabinDeck_E', 'CabinDeck_F', 'CabinDeck_G',\n",
       "       'CabinDeck_T', 'CabinDeck_Z', 'CabinSide_P', 'CabinSide_S',\n",
       "       'CabinSide_Z'],\n",
       "      dtype='object')"
      ]
     },
     "execution_count": 34,
     "metadata": {},
     "output_type": "execute_result"
    }
   ],
   "source": [
    "train_data.columns"
   ]
  },
  {
   "cell_type": "code",
   "execution_count": 35,
   "id": "da494c57",
   "metadata": {
    "execution": {
     "iopub.execute_input": "2022-10-30T14:48:10.712784Z",
     "iopub.status.busy": "2022-10-30T14:48:10.712417Z",
     "iopub.status.idle": "2022-10-30T14:48:10.718053Z",
     "shell.execute_reply": "2022-10-30T14:48:10.717249Z"
    },
    "papermill": {
     "duration": 0.037446,
     "end_time": "2022-10-30T14:48:10.719804",
     "exception": false,
     "start_time": "2022-10-30T14:48:10.682358",
     "status": "completed"
    },
    "tags": []
   },
   "outputs": [
    {
     "data": {
      "text/plain": [
       "Index(['CryoSleep', 'Age', 'VIP', 'RoomService', 'FoodCourt', 'ShoppingMall',\n",
       "       'Spa', 'VRDeck', 'TotalSpent', 'GroupPos', 'AgeGroup',\n",
       "       'HomePlanet_Earth', 'HomePlanet_Europa', 'HomePlanet_Mars',\n",
       "       'Destination_55 Cancri e', 'Destination_PSO J318.5-22',\n",
       "       'Destination_TRAPPIST-1e', 'CabinDeck_A', 'CabinDeck_B', 'CabinDeck_C',\n",
       "       'CabinDeck_D', 'CabinDeck_E', 'CabinDeck_F', 'CabinDeck_G',\n",
       "       'CabinDeck_T', 'CabinDeck_Z', 'CabinSide_P', 'CabinSide_S',\n",
       "       'CabinSide_Z'],\n",
       "      dtype='object')"
      ]
     },
     "execution_count": 35,
     "metadata": {},
     "output_type": "execute_result"
    }
   ],
   "source": [
    "test_data.columns"
   ]
  },
  {
   "cell_type": "code",
   "execution_count": 36,
   "id": "8bafa737",
   "metadata": {
    "execution": {
     "iopub.execute_input": "2022-10-30T14:48:10.831059Z",
     "iopub.status.busy": "2022-10-30T14:48:10.830708Z",
     "iopub.status.idle": "2022-10-30T14:48:10.841880Z",
     "shell.execute_reply": "2022-10-30T14:48:10.841078Z"
    },
    "papermill": {
     "duration": 0.041568,
     "end_time": "2022-10-30T14:48:10.843738",
     "exception": false,
     "start_time": "2022-10-30T14:48:10.802170",
     "status": "completed"
    },
    "tags": []
   },
   "outputs": [],
   "source": [
    "#Create an array A and B with values from Transported.\n",
    "\n",
    "A = train_data.drop(columns = ['Transported']).values\n",
    "B = train_data['Transported'].values"
   ]
  },
  {
   "cell_type": "code",
   "execution_count": 37,
   "id": "e57a6241",
   "metadata": {
    "execution": {
     "iopub.execute_input": "2022-10-30T14:48:10.955761Z",
     "iopub.status.busy": "2022-10-30T14:48:10.955163Z",
     "iopub.status.idle": "2022-10-30T14:48:10.961149Z",
     "shell.execute_reply": "2022-10-30T14:48:10.960580Z"
    },
    "papermill": {
     "duration": 0.036473,
     "end_time": "2022-10-30T14:48:10.962669",
     "exception": false,
     "start_time": "2022-10-30T14:48:10.926196",
     "status": "completed"
    },
    "tags": []
   },
   "outputs": [],
   "source": [
    "train_data['GroupPos'] = train_data['GroupPos'].astype(int)\n",
    "test_data['GroupPos'] = test_data['GroupPos'].astype(int)"
   ]
  },
  {
   "cell_type": "code",
   "execution_count": 38,
   "id": "44d2ab0b",
   "metadata": {
    "execution": {
     "iopub.execute_input": "2022-10-30T14:48:11.080788Z",
     "iopub.status.busy": "2022-10-30T14:48:11.080249Z",
     "iopub.status.idle": "2022-10-30T14:48:12.532552Z",
     "shell.execute_reply": "2022-10-30T14:48:12.531618Z"
    },
    "papermill": {
     "duration": 1.485998,
     "end_time": "2022-10-30T14:48:12.534963",
     "exception": false,
     "start_time": "2022-10-30T14:48:11.048965",
     "status": "completed"
    },
    "tags": []
   },
   "outputs": [],
   "source": [
    "from sklearn.linear_model import LogisticRegression\n",
    "from sklearn.ensemble import RandomForestClassifier\n",
    "from sklearn.ensemble import GradientBoostingClassifier\n",
    "from catboost import CatBoostClassifier\n",
    "from sklearn.svm import SVC"
   ]
  },
  {
   "cell_type": "code",
   "execution_count": 39,
   "id": "73343ffb",
   "metadata": {
    "execution": {
     "iopub.execute_input": "2022-10-30T14:48:12.649869Z",
     "iopub.status.busy": "2022-10-30T14:48:12.649372Z",
     "iopub.status.idle": "2022-10-30T14:48:12.659979Z",
     "shell.execute_reply": "2022-10-30T14:48:12.659340Z"
    },
    "papermill": {
     "duration": 0.041614,
     "end_time": "2022-10-30T14:48:12.661569",
     "exception": false,
     "start_time": "2022-10-30T14:48:12.619955",
     "status": "completed"
    },
    "tags": []
   },
   "outputs": [
    {
     "data": {
      "text/plain": [
       "((6954, 29), (6954,), (1739, 29), (1739,))"
      ]
     },
     "execution_count": 39,
     "metadata": {},
     "output_type": "execute_result"
    }
   ],
   "source": [
    "#Use train_test_split to split data into test_data data and train data\n",
    "\n",
    "from sklearn.model_selection import train_test_split\n",
    "X_tra, X_tes, y_tra, y_tes = train_test_split(A, B, test_size=0.2, random_state=101)\n",
    "\n",
    "X_tra.shape,y_tra.shape, X_tes.shape, y_tes.shape"
   ]
  },
  {
   "cell_type": "markdown",
   "id": "3aaed84a",
   "metadata": {},
   "source": [
    "### **Logistic Regreesion**"
   ]
  },
  {
   "cell_type": "code",
   "execution_count": 40,
   "id": "6226e858",
   "metadata": {
    "execution": {
     "iopub.execute_input": "2022-10-30T14:48:12.777489Z",
     "iopub.status.busy": "2022-10-30T14:48:12.776978Z",
     "iopub.status.idle": "2022-10-30T14:48:12.873803Z",
     "shell.execute_reply": "2022-10-30T14:48:12.872902Z"
    },
    "papermill": {
     "duration": 0.128796,
     "end_time": "2022-10-30T14:48:12.875834",
     "exception": false,
     "start_time": "2022-10-30T14:48:12.747038",
     "status": "completed"
    },
    "scrolled": true,
    "tags": []
   },
   "outputs": [
    {
     "name": "stderr",
     "output_type": "stream",
     "text": [
      "C:\\Users\\Lokesh\\anaconda3\\lib\\site-packages\\sklearn\\linear_model\\_logistic.py:444: ConvergenceWarning: lbfgs failed to converge (status=1):\n",
      "STOP: TOTAL NO. of ITERATIONS REACHED LIMIT.\n",
      "\n",
      "Increase the number of iterations (max_iter) or scale the data as shown in:\n",
      "    https://scikit-learn.org/stable/modules/preprocessing.html\n",
      "Please also refer to the documentation for alternative solver options:\n",
      "    https://scikit-learn.org/stable/modules/linear_model.html#logistic-regression\n",
      "  n_iter_i = _check_optimize_result(\n"
     ]
    }
   ],
   "source": [
    "log_reg = LogisticRegression()\n",
    "log_reg.fit(X_tra,y_tra)\n",
    "log_reg_pred_score = log_reg.score(X_tes,y_tes)"
   ]
  },
  {
   "attachments": {},
   "cell_type": "markdown",
   "id": "10b1cf2a",
   "metadata": {
    "papermill": {
     "duration": 0.040099,
     "end_time": "2022-10-30T14:48:12.956083",
     "exception": false,
     "start_time": "2022-10-30T14:48:12.915984",
     "status": "completed"
    },
    "tags": []
   },
   "source": [
    "### **Random Forest Classifier**"
   ]
  },
  {
   "cell_type": "code",
   "execution_count": 41,
   "id": "bb053117",
   "metadata": {
    "execution": {
     "iopub.execute_input": "2022-10-30T14:48:13.026322Z",
     "iopub.status.busy": "2022-10-30T14:48:13.025987Z",
     "iopub.status.idle": "2022-10-30T14:48:13.893954Z",
     "shell.execute_reply": "2022-10-30T14:48:13.893094Z"
    },
    "papermill": {
     "duration": 0.901317,
     "end_time": "2022-10-30T14:48:13.896203",
     "exception": false,
     "start_time": "2022-10-30T14:48:12.994886",
     "status": "completed"
    },
    "tags": []
   },
   "outputs": [],
   "source": [
    "ran_for = RandomForestClassifier()\n",
    "ran_for.fit(X_tra,y_tra)\n",
    "ran_for_pred_score = ran_for.score(X_tes,y_tes)"
   ]
  },
  {
   "attachments": {},
   "cell_type": "markdown",
   "id": "332d751e",
   "metadata": {
    "papermill": {
     "duration": 0.027526,
     "end_time": "2022-10-30T14:48:13.952035",
     "exception": false,
     "start_time": "2022-10-30T14:48:13.924509",
     "status": "completed"
    },
    "tags": []
   },
   "source": [
    "### **Gradient Boosting Classifier**"
   ]
  },
  {
   "cell_type": "code",
   "execution_count": 42,
   "id": "e107ea4c",
   "metadata": {
    "execution": {
     "iopub.execute_input": "2022-10-30T14:48:14.011618Z",
     "iopub.status.busy": "2022-10-30T14:48:14.011273Z",
     "iopub.status.idle": "2022-10-30T14:48:15.062174Z",
     "shell.execute_reply": "2022-10-30T14:48:15.061262Z"
    },
    "papermill": {
     "duration": 1.084623,
     "end_time": "2022-10-30T14:48:15.064595",
     "exception": false,
     "start_time": "2022-10-30T14:48:13.979972",
     "status": "completed"
    },
    "tags": []
   },
   "outputs": [],
   "source": [
    "gra_boo = GradientBoostingClassifier()\n",
    "gra_boo.fit(X_tra,y_tra)\n",
    "gra_boo_pred_score = gra_boo.score(X_tes,y_tes)"
   ]
  },
  {
   "attachments": {},
   "cell_type": "markdown",
   "id": "554d658d",
   "metadata": {
    "papermill": {
     "duration": 0.028819,
     "end_time": "2022-10-30T14:48:17.055325",
     "exception": false,
     "start_time": "2022-10-30T14:48:17.026506",
     "status": "completed"
    },
    "tags": []
   },
   "source": [
    "### **CatBoost**"
   ]
  },
  {
   "cell_type": "code",
   "execution_count": 43,
   "id": "d6e428e4",
   "metadata": {
    "execution": {
     "iopub.execute_input": "2022-10-30T14:48:17.113242Z",
     "iopub.status.busy": "2022-10-30T14:48:17.112917Z",
     "iopub.status.idle": "2022-10-30T14:48:20.244638Z",
     "shell.execute_reply": "2022-10-30T14:48:20.243928Z"
    },
    "papermill": {
     "duration": 3.163312,
     "end_time": "2022-10-30T14:48:20.246837",
     "exception": false,
     "start_time": "2022-10-30T14:48:17.083525",
     "status": "completed"
    },
    "tags": []
   },
   "outputs": [],
   "source": [
    "cat_boo = CatBoostClassifier(verbose=False)\n",
    "cat_boo.fit(X_tra, y_tra)\n",
    "cat_boo_pred_score = cat_boo.score(X_tes,y_tes)"
   ]
  },
  {
   "cell_type": "code",
   "execution_count": 45,
   "id": "5379aa2e",
   "metadata": {
    "execution": {
     "iopub.execute_input": "2022-10-30T14:48:20.361587Z",
     "iopub.status.busy": "2022-10-30T14:48:20.361237Z",
     "iopub.status.idle": "2022-10-30T14:48:20.371419Z",
     "shell.execute_reply": "2022-10-30T14:48:20.370614Z"
    },
    "papermill": {
     "duration": 0.040769,
     "end_time": "2022-10-30T14:48:20.373088",
     "exception": false,
     "start_time": "2022-10-30T14:48:20.332319",
     "status": "completed"
    },
    "tags": []
   },
   "outputs": [
    {
     "data": {
      "text/html": [
       "<div>\n",
       "<style scoped>\n",
       "    .dataframe tbody tr th:only-of-type {\n",
       "        vertical-align: middle;\n",
       "    }\n",
       "\n",
       "    .dataframe tbody tr th {\n",
       "        vertical-align: top;\n",
       "    }\n",
       "\n",
       "    .dataframe thead th {\n",
       "        text-align: right;\n",
       "    }\n",
       "</style>\n",
       "<table border=\"1\" class=\"dataframe\">\n",
       "  <thead>\n",
       "    <tr style=\"text-align: right;\">\n",
       "      <th></th>\n",
       "      <th>model</th>\n",
       "      <th>accuracy</th>\n",
       "    </tr>\n",
       "  </thead>\n",
       "  <tbody>\n",
       "    <tr>\n",
       "      <th>0</th>\n",
       "      <td>Logistic Regression</td>\n",
       "      <td>0.799310</td>\n",
       "    </tr>\n",
       "    <tr>\n",
       "      <th>1</th>\n",
       "      <td>Random Forest</td>\n",
       "      <td>0.802185</td>\n",
       "    </tr>\n",
       "    <tr>\n",
       "      <th>2</th>\n",
       "      <td>Gradient Boosting</td>\n",
       "      <td>0.801610</td>\n",
       "    </tr>\n",
       "    <tr>\n",
       "      <th>3</th>\n",
       "      <td>Catboost</td>\n",
       "      <td>0.820587</td>\n",
       "    </tr>\n",
       "  </tbody>\n",
       "</table>\n",
       "</div>"
      ],
      "text/plain": [
       "                 model  accuracy\n",
       "0  Logistic Regression  0.799310\n",
       "1        Random Forest  0.802185\n",
       "2    Gradient Boosting  0.801610\n",
       "3             Catboost  0.820587"
      ]
     },
     "execution_count": 45,
     "metadata": {},
     "output_type": "execute_result"
    }
   ],
   "source": [
    "#Each model's accuracy is displayed. We will choose the model with the highest accuracy.\n",
    "\n",
    "df = pd.DataFrame(dict(model=['Logistic Regression', \n",
    "                              'Random Forest', \n",
    "                              'Gradient Boosting',\n",
    "                              'Catboost'],accuracy=[log_reg_pred_score, ran_for_pred_score, \n",
    "                                               gra_boo_pred_score, cat_boo_pred_score]))\n",
    "df"
   ]
  },
  {
   "cell_type": "code",
   "execution_count": 46,
   "id": "64082caa",
   "metadata": {
    "execution": {
     "iopub.execute_input": "2022-10-30T14:48:20.486455Z",
     "iopub.status.busy": "2022-10-30T14:48:20.486113Z",
     "iopub.status.idle": "2022-10-30T14:48:20.495398Z",
     "shell.execute_reply": "2022-10-30T14:48:20.494461Z"
    },
    "papermill": {
     "duration": 0.040439,
     "end_time": "2022-10-30T14:48:20.497251",
     "exception": false,
     "start_time": "2022-10-30T14:48:20.456812",
     "status": "completed"
    },
    "tags": []
   },
   "outputs": [],
   "source": [
    "#Drop Transported before incorporating it into the model.\n",
    "\n",
    "X_tra = train_data.drop('Transported', axis=1)\n",
    "y_tra = train_data['Transported']\n",
    "X_tes = test_data.copy()"
   ]
  },
  {
   "cell_type": "code",
   "execution_count": 47,
   "id": "b8fb1ed3",
   "metadata": {
    "execution": {
     "iopub.execute_input": "2022-10-30T14:48:20.613402Z",
     "iopub.status.busy": "2022-10-30T14:48:20.613047Z",
     "iopub.status.idle": "2022-10-30T14:48:23.970244Z",
     "shell.execute_reply": "2022-10-30T14:48:23.969329Z"
    },
    "papermill": {
     "duration": 3.390508,
     "end_time": "2022-10-30T14:48:23.972428",
     "exception": false,
     "start_time": "2022-10-30T14:48:20.581920",
     "status": "completed"
    },
    "tags": []
   },
   "outputs": [],
   "source": [
    "#In this case, we've used CatBoost as our model because it has the highest accuracy.\n",
    "\n",
    "model5 = CatBoostClassifier(verbose=False)\n",
    "model5.fit(X_tra,y_tra)\n",
    "pred = model5.predict(X_tes)"
   ]
  },
  {
   "cell_type": "code",
   "execution_count": 48,
   "id": "d1a08884",
   "metadata": {
    "execution": {
     "iopub.execute_input": "2022-10-30T14:48:24.089670Z",
     "iopub.status.busy": "2022-10-30T14:48:24.089255Z",
     "iopub.status.idle": "2022-10-30T14:48:24.112776Z",
     "shell.execute_reply": "2022-10-30T14:48:24.111817Z"
    },
    "papermill": {
     "duration": 0.055597,
     "end_time": "2022-10-30T14:48:24.114675",
     "exception": false,
     "start_time": "2022-10-30T14:48:24.059078",
     "status": "completed"
    },
    "tags": []
   },
   "outputs": [],
   "source": [
    "#Read the output from the model.\n",
    "\n",
    "submission = pd.read_csv(r\"C:\\Users\\Lokesh\\Downloads\\spaceship-titanic\\sample_submission.csv\")\n",
    "submission['Transported']=pred.astype(bool)\n",
    "submission.to_csv('./submission6.csv',index=False)"
   ]
  },
  {
   "cell_type": "code",
   "execution_count": 49,
   "id": "cc3c7241",
   "metadata": {
    "execution": {
     "iopub.execute_input": "2022-10-30T14:48:24.172351Z",
     "iopub.status.busy": "2022-10-30T14:48:24.172036Z",
     "iopub.status.idle": "2022-10-30T14:48:24.182681Z",
     "shell.execute_reply": "2022-10-30T14:48:24.181698Z"
    },
    "papermill": {
     "duration": 0.041357,
     "end_time": "2022-10-30T14:48:24.184314",
     "exception": false,
     "start_time": "2022-10-30T14:48:24.142957",
     "status": "completed"
    },
    "tags": []
   },
   "outputs": [
    {
     "data": {
      "text/html": [
       "<div>\n",
       "<style scoped>\n",
       "    .dataframe tbody tr th:only-of-type {\n",
       "        vertical-align: middle;\n",
       "    }\n",
       "\n",
       "    .dataframe tbody tr th {\n",
       "        vertical-align: top;\n",
       "    }\n",
       "\n",
       "    .dataframe thead th {\n",
       "        text-align: right;\n",
       "    }\n",
       "</style>\n",
       "<table border=\"1\" class=\"dataframe\">\n",
       "  <thead>\n",
       "    <tr style=\"text-align: right;\">\n",
       "      <th></th>\n",
       "      <th>PassengerId</th>\n",
       "      <th>Transported</th>\n",
       "    </tr>\n",
       "  </thead>\n",
       "  <tbody>\n",
       "    <tr>\n",
       "      <th>0</th>\n",
       "      <td>0013_01</td>\n",
       "      <td>True</td>\n",
       "    </tr>\n",
       "    <tr>\n",
       "      <th>1</th>\n",
       "      <td>0018_01</td>\n",
       "      <td>False</td>\n",
       "    </tr>\n",
       "    <tr>\n",
       "      <th>2</th>\n",
       "      <td>0019_01</td>\n",
       "      <td>True</td>\n",
       "    </tr>\n",
       "    <tr>\n",
       "      <th>3</th>\n",
       "      <td>0021_01</td>\n",
       "      <td>True</td>\n",
       "    </tr>\n",
       "    <tr>\n",
       "      <th>4</th>\n",
       "      <td>0023_01</td>\n",
       "      <td>True</td>\n",
       "    </tr>\n",
       "    <tr>\n",
       "      <th>...</th>\n",
       "      <td>...</td>\n",
       "      <td>...</td>\n",
       "    </tr>\n",
       "    <tr>\n",
       "      <th>4272</th>\n",
       "      <td>9266_02</td>\n",
       "      <td>True</td>\n",
       "    </tr>\n",
       "    <tr>\n",
       "      <th>4273</th>\n",
       "      <td>9269_01</td>\n",
       "      <td>False</td>\n",
       "    </tr>\n",
       "    <tr>\n",
       "      <th>4274</th>\n",
       "      <td>9271_01</td>\n",
       "      <td>True</td>\n",
       "    </tr>\n",
       "    <tr>\n",
       "      <th>4275</th>\n",
       "      <td>9273_01</td>\n",
       "      <td>True</td>\n",
       "    </tr>\n",
       "    <tr>\n",
       "      <th>4276</th>\n",
       "      <td>9277_01</td>\n",
       "      <td>True</td>\n",
       "    </tr>\n",
       "  </tbody>\n",
       "</table>\n",
       "<p>4277 rows × 2 columns</p>\n",
       "</div>"
      ],
      "text/plain": [
       "     PassengerId  Transported\n",
       "0        0013_01         True\n",
       "1        0018_01        False\n",
       "2        0019_01         True\n",
       "3        0021_01         True\n",
       "4        0023_01         True\n",
       "...          ...          ...\n",
       "4272     9266_02         True\n",
       "4273     9269_01        False\n",
       "4274     9271_01         True\n",
       "4275     9273_01         True\n",
       "4276     9277_01         True\n",
       "\n",
       "[4277 rows x 2 columns]"
      ]
     },
     "execution_count": 49,
     "metadata": {},
     "output_type": "execute_result"
    }
   ],
   "source": [
    "submission"
   ]
  },
  {
   "cell_type": "code",
   "execution_count": null,
   "id": "44169c7f",
   "metadata": {},
   "outputs": [],
   "source": []
  }
 ],
 "metadata": {
  "kernelspec": {
   "display_name": "Python 3 (ipykernel)",
   "language": "python",
   "name": "python3"
  },
  "language_info": {
   "codemirror_mode": {
    "name": "ipython",
    "version": 3
   },
   "file_extension": ".py",
   "mimetype": "text/x-python",
   "name": "python",
   "nbconvert_exporter": "python",
   "pygments_lexer": "ipython3",
   "version": "3.9.7"
  },
  "papermill": {
   "default_parameters": {},
   "duration": 164.004237,
   "end_time": "2022-10-30T14:48:27.524410",
   "environment_variables": {},
   "exception": null,
   "input_path": "__notebook__.ipynb",
   "output_path": "__notebook__.ipynb",
   "parameters": {},
   "start_time": "2022-10-30T14:45:43.520173",
   "version": "2.3.4"
  }
 },
 "nbformat": 4,
 "nbformat_minor": 5
}
